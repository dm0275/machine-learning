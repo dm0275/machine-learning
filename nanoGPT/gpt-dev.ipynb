{
 "cells": [
  {
   "cell_type": "markdown",
   "source": [
    "# Nano GPT"
   ],
   "metadata": {
    "collapsed": false
   },
   "id": "e4edf7f5eb42e05d"
  },
  {
   "cell_type": "code",
   "execution_count": 3,
   "id": "initial_id",
   "metadata": {
    "collapsed": true,
    "ExecuteTime": {
     "end_time": "2024-06-04T14:10:13.304547Z",
     "start_time": "2024-06-04T14:10:13.299874Z"
    }
   },
   "outputs": [
    {
     "name": "stdout",
     "output_type": "stream",
     "text": [
      "data file already present\n"
     ]
    }
   ],
   "source": [
    "# Download the data file if it doesn't exist \n",
    "import urllib.request\n",
    "import os.path\n",
    "\n",
    "file_name = \"input.txt\"\n",
    "file_url = \"https://raw.githubusercontent.com/karpathy/char-rnn/master/data/tinyshakespeare/input.txt\"\n",
    "\n",
    "if not os.path.isfile(file_name):\n",
    "    urllib.request.urlretrieve(file_url, file_name)\n",
    "else:\n",
    "    print(\"data file already present\")"
   ]
  },
  {
   "cell_type": "code",
   "outputs": [],
   "source": [
    "# Read the data file\n",
    "with open(file_name, \"r\", encoding=\"utf-8\") as f:\n",
    "    text = f.read()"
   ],
   "metadata": {
    "collapsed": false,
    "ExecuteTime": {
     "end_time": "2024-06-04T14:11:34.664887Z",
     "start_time": "2024-06-04T14:11:34.660312Z"
    }
   },
   "id": "4a65175b7dde95a0",
   "execution_count": 4
  },
  {
   "cell_type": "code",
   "outputs": [
    {
     "name": "stdout",
     "output_type": "stream",
     "text": [
      "Length of the dataset in characters:  1115394\n"
     ]
    }
   ],
   "source": [
    "# Examine the file contents\n",
    "print(\"Length of the dataset in characters: \", len(text))"
   ],
   "metadata": {
    "collapsed": false,
    "ExecuteTime": {
     "end_time": "2024-06-04T14:13:02.893525Z",
     "start_time": "2024-06-04T14:13:02.891373Z"
    }
   },
   "id": "e38fd34e37adb3b",
   "execution_count": 6
  },
  {
   "cell_type": "code",
   "outputs": [
    {
     "name": "stdout",
     "output_type": "stream",
     "text": [
      "First Citizen:\n",
      "Before we proceed any further, hear me speak.\n",
      "\n",
      "All:\n",
      "Speak, speak.\n",
      "\n",
      "First Citizen:\n",
      "You are all resolved rather to die than to famish?\n",
      "\n",
      "All:\n",
      "Resolved. resolved.\n",
      "\n",
      "First Citizen:\n",
      "First, you know Caius Marcius is chief enemy to the people.\n",
      "\n",
      "All:\n",
      "We know't, we know't.\n",
      "\n",
      "First Citizen:\n",
      "Let us kill him, and we'll have corn at our own price.\n",
      "Is't a verdict?\n",
      "\n",
      "All:\n",
      "No more talking on't; let it be done: away, away!\n",
      "\n",
      "Second Citizen:\n",
      "One word, good citizens.\n",
      "\n",
      "First Citizen:\n",
      "We are accounted poor citizens, the patricians good.\n",
      "What authority surfeits on would relieve us: if they\n",
      "would yield us but the superfluity, while it were\n",
      "wholesome, we might guess they relieved us humanely;\n",
      "but they think we are too dear: the leanness that\n",
      "afflicts us, the object of our misery, is as an\n",
      "inventory to particularise their abundance; our\n",
      "sufferance is a gain to them Let us revenge this with\n",
      "our pikes, ere we become rakes: for the gods know I\n",
      "speak this in hunger for bread, not in thirst for revenge.\n"
     ]
    }
   ],
   "source": [
    "# Examine the first 1000 characters\n",
    "print(text[:1000])"
   ],
   "metadata": {
    "collapsed": false,
    "ExecuteTime": {
     "end_time": "2024-06-04T14:13:05.405137Z",
     "start_time": "2024-06-04T14:13:05.402230Z"
    }
   },
   "id": "b2960e73b2b52461",
   "execution_count": 7
  },
  {
   "cell_type": "code",
   "outputs": [
    {
     "data": {
      "text/plain": "['p',\n \"'\",\n 'K',\n 'X',\n 'r',\n 'R',\n 'P',\n 'G',\n 'D',\n ' ',\n 'e',\n 'm',\n 'L',\n 's',\n 'T',\n '!',\n 't',\n 'a',\n 'O',\n 'C',\n 'c',\n 'B',\n 'l',\n 'j',\n 'u',\n 'M',\n 'o',\n 'Y',\n 'v',\n 'i',\n 'F',\n 'n',\n 'h',\n 'x',\n 'N',\n 'V',\n '3',\n 'z',\n 'U',\n 'k',\n 'g',\n '?',\n '$',\n ':',\n 'W',\n '\\n',\n 'b',\n 'q',\n 'I',\n ';',\n 'A',\n 'E',\n 'J',\n 'Q',\n 'Z',\n '.',\n 'd',\n 'f',\n 'y',\n 'S',\n '-',\n ',',\n '&',\n 'w',\n 'H']"
     },
     "execution_count": 9,
     "metadata": {},
     "output_type": "execute_result"
    }
   ],
   "source": [
    "# set() takes in an iterable sequence and returns all non-repeating elements from the iterable sequence.\n",
    "chars_set = set(text)\n",
    "chars_list = list(chars_set)\n",
    "\n",
    "chars_list"
   ],
   "metadata": {
    "collapsed": false,
    "ExecuteTime": {
     "end_time": "2024-06-04T14:36:07.415199Z",
     "start_time": "2024-06-04T14:36:07.394988Z"
    }
   },
   "id": "176d348da15e6345",
   "execution_count": 9
  },
  {
   "cell_type": "code",
   "outputs": [],
   "source": [],
   "metadata": {
    "collapsed": false
   },
   "id": "d4c2380c36ac5bbe"
  }
 ],
 "metadata": {
  "kernelspec": {
   "display_name": "Python 3",
   "language": "python",
   "name": "python3"
  },
  "language_info": {
   "codemirror_mode": {
    "name": "ipython",
    "version": 2
   },
   "file_extension": ".py",
   "mimetype": "text/x-python",
   "name": "python",
   "nbconvert_exporter": "python",
   "pygments_lexer": "ipython2",
   "version": "2.7.6"
  }
 },
 "nbformat": 4,
 "nbformat_minor": 5
}
