{
 "cells": [
  {
   "cell_type": "code",
   "execution_count": null,
   "id": "initial_id",
   "metadata": {
    "collapsed": true
   },
   "outputs": [],
   "source": [
    "# Import required packages\n",
    "\n",
    "import os\n",
    "import sys\n",
    "import numpy as np\n",
    "import pandas as pd\n",
    "import matplotlib.pyplot as plt"
   ]
  },
  {
   "cell_type": "code",
   "outputs": [],
   "source": [
    "# Import the data set\n",
    "cwd = os.getcwd()\n",
    "\n",
    "# read_csv() reads data from a CSV into a DataFrame\n",
    "data_set = pd.read_csv(cwd + \"/netflix_titles.csv\")"
   ],
   "metadata": {
    "collapsed": false
   },
   "id": "43f21c3c84b0b124",
   "execution_count": null
  },
  {
   "cell_type": "code",
   "outputs": [],
   "source": [
    "# head() prints the first 5 rows of the DataFrame\n",
    "data_set.head()"
   ],
   "metadata": {
    "collapsed": false
   },
   "id": "ab6e7a9fd032bc5c",
   "execution_count": null
  },
  {
   "cell_type": "markdown",
   "source": [
    "#### `head()` output\n",
    "| show_id | type | title   | director              | cast            | country                                           | date_added    | release_year       | rating | duration | listed_in | description                                       |\n",
    "|---------|------|---------|-----------------------|-----------------|---------------------------------------------------|---------------|--------------------|--------|----------|-----------|---------------------------------------------------|\n",
    "| 0       | s1   | Movie   | Dick Johnson Is Dead  | Kirsten Johnson | NaN                                               | United States | September 25, 2021 | 2020   | PG-13    | 90 min    | Documentaries                                     | As her father nears the end of his life, filmm... |\n",
    "| 1       | s2   | TV Show | Blood & Water         | NaN             | Ama Qamata, Khosi Ngema, Gail Mabalane, Thaban... | South Africa  | September 24, 2021 | 2021   | TV-MA    | 2 Seasons | International TV Shows, TV Dramas, TV Mysteries   | After crossing paths at a party, a Cape Town t... |\n",
    "| 2       | s3   | TV Show | Ganglands             | Julien Leclercq | Sami Bouajila, Tracy Gotoas, Samuel Jouy, Nabi... | NaN           | September 24, 2021 | 2021   | TV-MA    | 1 Season  | Crime TV Shows, International TV Shows, TV Act... | To protect his family from a powerful drug lor... |\n",
    "| 3       | s4   | TV Show | Jailbirds New Orleans | NaN             | NaN                                               | NaN           | September 24, 2021 | 2021   | TV-MA    | 1 Season  | Docuseries, Reality TV                            | Feuds, flirtations and toilet talk go down amo... |\n",
    "| 4       | s5   | TV Show | Kota Factory          | NaN             | Mayur More, Jitendra Kumar, Ranjan Raj, Alam K... | India         | September 24, 2021 | 2021   | TV-MA    | 2 Seasons | International TV Shows, Romantic TV Shows, TV ... | In a city of coaching centers known to train I... | "
   ],
   "metadata": {
    "collapsed": false
   },
   "id": "a09e76f463b24533"
  },
  {
   "cell_type": "code",
   "outputs": [],
   "source": [
    "# info() prints information about the DataFrame. This includes information like the number of columns and data type.\n",
    "data_set.info()"
   ],
   "metadata": {
    "collapsed": false
   },
   "id": "660d1301d9df149f",
   "execution_count": null
  },
  {
   "cell_type": "markdown",
   "source": [
    "#### `info()` output\n",
    "```\n",
    "<class 'pandas.core.frame.DataFrame'>\n",
    "RangeIndex: 8807 entries, 0 to 8806\n",
    "Data columns (total 12 columns):\n",
    " #   Column        Non-Null Count  Dtype \n",
    "---  ------        --------------  ----- \n",
    " 0   show_id       8807 non-null   object\n",
    " 1   type          8807 non-null   object\n",
    " 2   title         8807 non-null   object\n",
    " 3   director      6173 non-null   object\n",
    " 4   cast          7982 non-null   object\n",
    " 5   country       7976 non-null   object\n",
    " 6   date_added    8797 non-null   object\n",
    " 7   release_year  8807 non-null   int64 \n",
    " 8   rating        8803 non-null   object\n",
    " 9   duration      8804 non-null   object\n",
    " 10  listed_in     8807 non-null   object\n",
    " 11  description   8807 non-null   object\n",
    "dtypes: int64(1), object(11)\n",
    "memory usage: 825.8+ KB\n",
    "```"
   ],
   "metadata": {
    "collapsed": false
   },
   "id": "54665b46c147f9f4"
  },
  {
   "cell_type": "code",
   "outputs": [],
   "source": [
    "# isna() - Is used to detect missing values for each column\n",
    "# sum() - Returns the sum of missing values for each number\n",
    "data_set.isna().sum()"
   ],
   "metadata": {
    "collapsed": false
   },
   "id": "23a80d5db4b97488",
   "execution_count": null
  },
  {
   "cell_type": "code",
   "outputs": [],
   "source": [
    "# duplicated() - Returns a boolean Series noting duplicate rows.\n",
    "data_set.duplicated().sum()"
   ],
   "metadata": {
    "collapsed": false
   },
   "id": "afb52cc079ac8968",
   "execution_count": null
  },
  {
   "cell_type": "markdown",
   "source": [
    "### Data Notes\n",
    "* There are `6` columns which contain missing values\n",
    "* There are no duplicates\n",
    "* `show_id` is not a relevant column\n",
    "\n",
    "### Data Cleaning\n",
    "* Drop the `show_id` column, and drop any row that have NA values"
   ],
   "metadata": {
    "collapsed": false
   },
   "id": "6fbf262d263d86e2"
  },
  {
   "cell_type": "code",
   "outputs": [],
   "source": [
    "# Drop rows with NA columns\n",
    "data_set = data_set.dropna()\n",
    "\n",
    "# Drop the irelevant column(s)\n",
    "data_set = data_set.drop(columns=['show_id'])"
   ],
   "metadata": {
    "collapsed": false
   },
   "id": "dae3fa5bc1e11473",
   "execution_count": null
  },
  {
   "cell_type": "code",
   "outputs": [],
   "source": [
    "# Get DataFrame output to validate that columns have matching number of rows\n",
    "data_set.info()"
   ],
   "metadata": {
    "collapsed": false
   },
   "id": "193372263399d278",
   "execution_count": null
  },
  {
   "cell_type": "code",
   "outputs": [],
   "source": [
    "# Plot the number of movies vs number of TV shows\n",
    "counts = data_set['type'].value_counts()\n",
    "plt.bar(counts.index, counts.values)\n",
    "plt.show()\n"
   ],
   "metadata": {
    "collapsed": false
   },
   "id": "e4840df78c4a2525",
   "execution_count": null
  }
 ],
 "metadata": {
  "kernelspec": {
   "display_name": "Python 3",
   "language": "python",
   "name": "python3"
  },
  "language_info": {
   "codemirror_mode": {
    "name": "ipython",
    "version": 2
   },
   "file_extension": ".py",
   "mimetype": "text/x-python",
   "name": "python",
   "nbconvert_exporter": "python",
   "pygments_lexer": "ipython2",
   "version": "2.7.6"
  }
 },
 "nbformat": 4,
 "nbformat_minor": 5
}
